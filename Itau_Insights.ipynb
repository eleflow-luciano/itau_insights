{
 "cells": [
  {
   "cell_type": "code",
   "execution_count": 45,
   "metadata": {},
   "outputs": [],
   "source": [
    "import numpy as np\n",
    "import pandas\n",
    "import sklearn\n",
    "from telegram import ReplyKeyboardMarkup\n",
    "from telegram.ext import (Updater, CommandHandler, MessageHandler, Filters, RegexHandler,\n",
    "                          ConversationHandler)\n",
    "\n",
    "from sklearn.cross_validation import train_test_split\n",
    "from sklearn.cluster import KMeans\n",
    "from sklearn.mixture import GaussianMixture\n",
    "from sklearn.externals import joblib"
   ]
  },
  {
   "cell_type": "code",
   "execution_count": 2,
   "metadata": {},
   "outputs": [],
   "source": [
    "token_telegram_bot = '622477280:AAGQnG6ys2bqMq3rkjiHnth5MNcOGVVT9EU'"
   ]
  },
  {
   "cell_type": "code",
   "execution_count": 3,
   "metadata": {},
   "outputs": [],
   "source": [
    "def retrieve_bot():\n",
    "    return telegram.Bot(token=token_telegram_bot)"
   ]
  },
  {
   "cell_type": "markdown",
   "metadata": {},
   "source": [
    "## Chatterbot"
   ]
  },
  {
   "cell_type": "code",
   "execution_count": 12,
   "metadata": {},
   "outputs": [
    {
     "name": "stdout",
     "output_type": "stream",
     "text": [
      "List Trainer: [####################] 100%\n",
      "List Trainer: [####################] 100%\n"
     ]
    }
   ],
   "source": [
    "# -*- coding: utf-8 -*-\n",
    "from chatterbot import ChatBot\n",
    "\n",
    "# Create a new chat bot named Charlie\n",
    "chatbot = ChatBot(\n",
    "    'teste',\n",
    "    trainer='chatterbot.trainers.ListTrainer',\n",
    "    logic_adapters=[\n",
    "        \"chatterbot.logic.MathematicalEvaluation\",\n",
    "        \"chatterbot.logic.BestMatch\"\n",
    "    ]\n",
    ")\n",
    "chatbot.train([\n",
    "    \"Great!\",\n",
    "    \"What are you doing\",\n",
    "    \"Your flight has been booked.\"\n",
    "])\n",
    "\n",
    "chatbot.train([\n",
    "    \"Where are you?\",\n",
    "    \"I'm here\",\n",
    "    \"Great.\"\n",
    "])"
   ]
  },
  {
   "cell_type": "code",
   "execution_count": 13,
   "metadata": {},
   "outputs": [
    {
     "name": "stdout",
     "output_type": "stream",
     "text": [
      "I'm here\n"
     ]
    }
   ],
   "source": [
    "# Get a response to the input text 'How are you?'\n",
    "response = chatbot.get_response(\"Where are you\")\n",
    "\n",
    "print(response)"
   ]
  },
  {
   "cell_type": "markdown",
   "metadata": {},
   "source": [
    "## Telegram  Bot"
   ]
  },
  {
   "cell_type": "code",
   "execution_count": 24,
   "metadata": {},
   "outputs": [],
   "source": [
    "from telegram import ReplyKeyboardMarkup\n",
    "from telegram.ext import (Updater, CommandHandler, MessageHandler, Filters, RegexHandler,\n",
    "                          ConversationHandler)\n",
    "import logging\n",
    "from datetime import datetime\n",
    "#!/usr/bin/env python\n",
    "# -*- coding: utf-8 -*-\n",
    "#\n",
    "# Simple Bot to reply to Telegram messages\n",
    "# This program is dedicated to the public domain under the CC0 license.\n",
    "\n",
    "token_telegram_bot = '622477280:AAGQnG6ys2bqMq3rkjiHnth5MNcOGVVT9EU'\n",
    "\"\"\"\n",
    "This Bot uses the Updater class to handle the bot.\n",
    "First, a few callback functions are defined. Then, those functions are passed to\n",
    "the Dispatcher and registered at their respective places.\n",
    "Then, the bot is started and runs until we press Ctrl-C on the command line.\n",
    "Usage:\n",
    "Example of a bot-user conversation using ConversationHandler.\n",
    "Send /start to initiate the conversation.\n",
    "Press Ctrl-C on the command line or send a signal to the process to stop the\n",
    "bot.\n",
    "\"\"\"\n",
    "\n",
    "# Enable logging\n",
    "logging.basicConfig(format='%(asctime)s - %(name)s - %(levelname)s - %(message)s',\n",
    "                    level=logging.INFO)\n",
    "\n",
    "logger = logging.getLogger(__name__)\n",
    "\n",
    "CHOOSING, TYPING_REPLY, TYPING_CHOICE = range(3)\n",
    "\n",
    "reply_keyboard = [['Credito', 'Marketing'],\n",
    "                  ['Como começar?', 'Saude dos negocios'],\n",
    "                  ['Batata', 'Estudar', 'Done']]\n",
    "markup = ReplyKeyboardMarkup(reply_keyboard, one_time_keyboard=True)\n",
    "\n",
    "def start(bot, update, user_data):\n",
    "\n",
    "    user = update.effective_user\n",
    "    \n",
    "    user_data['first_name'] = user.first_name\n",
    "    user_data['last_name'] = user.last_name\n",
    "    user_data['telegram_user_id']  = user.id\n",
    "    \n",
    "    logging.info(update)\n",
    "    \n",
    "    update.message.reply_text(\n",
    "        \"Olá empreendedor, Eu sou a Constelação, sua assistente de negócios\",\n",
    "        reply_markup=markup)\n",
    "        \n",
    "    return CHOOSING\n",
    "\n",
    "def regular_choice(bot, update, user_data):\n",
    "    text = update.message.text\n",
    "    user_data['choice'] = text\n",
    "    update.message.reply_text(\n",
    "        'Your {}? Yes, I would love to hear about that!'.format(text.lower()))\n",
    "\n",
    "    return TYPING_REPLY\n",
    "\n",
    "\n",
    "def custom_choice(bot, update):\n",
    "    update.message.reply_text('Alright, please send me the category first, '\n",
    "                              'for example \"Most impressive skill\"')\n",
    "\n",
    "    return TYPING_CHOICE\n",
    "\n",
    "\n",
    "def received_information(bot, update, user_data):\n",
    "    text = update.message.text\n",
    "    category = user_data['choice']\n",
    "    user_data[category] = text\n",
    "    del user_data['choice']\n",
    "\n",
    "    update.message.reply_text(\"Neat! Just so you know, this is what you already told me\")\n",
    "\n",
    "    return CHOOSING\n",
    "\n",
    "\n",
    "def done(bot, update, user_data):\n",
    "    \n",
    "    user_data['_id'] = hash(str(user_data['telegram_user_id']) + str(datetime.now()) + str(update.update_id))\n",
    "    \n",
    "    es = Elasticsearch(ELASTICSEARCH_SERVER_ADDRESS)\n",
    "    es.index(index=DATE_INDEX, doc_type='doc', body=user_data)\n",
    "    \n",
    "    if 'choice' in user_data:\n",
    "        del user_data['choice']\n",
    "\n",
    "    update.message.reply_text(\"I learned these facts about you:\"\n",
    "                              \"{}\"\n",
    "                              \"Until next time!\".format(facts_to_str(user_data)))\n",
    "\n",
    "    user_data.clear()\n",
    "    return ConversationHandler.END\n",
    "\n",
    "\n",
    "def error(bot, update, error):\n",
    "    \"\"\"Log Errors caused by Updates.\"\"\"\n",
    "    logger.warning('Update \"%s\" caused error \"%s\"', update, error)\n",
    "\n",
    "\n",
    "def telegram_bot():\n",
    "    # Create the Updater and pass it your bot's token.\n",
    "    updater = Updater(token_telegram_bot)\n",
    "\n",
    "    # Get the dispatcher to register handlers\n",
    "    dp = updater.dispatcher\n",
    "    \n",
    "    # Add conversation handler with the states GENDER, PHOTO, LOCATION and BIO\n",
    "    conv_handler = ConversationHandler(\n",
    "        entry_points=[CommandHandler('start', start, pass_user_data=True)],\n",
    "\n",
    "        states={\n",
    "            CHOOSING: [RegexHandler('^(Credito|Marketing|Como começar?|Saude dos negócios)$',\n",
    "                                    regular_choice,\n",
    "                                    pass_user_data=True),\n",
    "                       RegexHandler('^(Batata|Estudar)$',\n",
    "                                    custom_choice),\n",
    "                       ],\n",
    "\n",
    "            TYPING_CHOICE: [MessageHandler(Filters.text,\n",
    "                                           regular_choice,\n",
    "                                           pass_user_data=True),\n",
    "                            ],\n",
    "\n",
    "            TYPING_REPLY: [MessageHandler(Filters.text,\n",
    "                                          received_information,\n",
    "                                          pass_user_data=True),\n",
    "                           ],\n",
    "        },\n",
    "\n",
    "        fallbacks=[RegexHandler('^Done$', done, pass_user_data=True)]\n",
    "    )\n",
    "\n",
    "    dp.add_handler(conv_handler)\n",
    "\n",
    "    # log all errors\n",
    "    dp.add_error_handler(error)\n",
    "\n",
    "    # Start the Bot\n",
    "    updater.start_polling()\n",
    "\n",
    "    # Run the bot until you press Ctrl-C or the process receives SIGINT,\n",
    "    # SIGTERM or SIGABRT. This should be used most of the time, since\n",
    "    # start_polling() is non-blocking and will stop the bot gracefully.\n",
    "    updater.idle()\n"
   ]
  },
  {
   "cell_type": "code",
   "execution_count": null,
   "metadata": {},
   "outputs": [],
   "source": [
    "def main():\n",
    "#     joblib.dump(clf, 'filename.pkl') \n",
    "    clf = joblib.load('classifier_kmeans.pkl')"
   ]
  },
  {
   "cell_type": "code",
   "execution_count": 26,
   "metadata": {
    "collapsed": true
   },
   "outputs": [
    {
     "name": "stderr",
     "output_type": "stream",
     "text": [
      "2018-08-26 00:50:18,320 - root - INFO - {'update_id': 494609538, 'message': {'message_id': 70, 'date': 1535255416, 'chat': {'id': 470319902, 'type': 'private', 'username': 'Falkets', 'first_name': 'Luciano', 'last_name': 'Falqueto'}, 'text': '/start', 'entities': [{'type': 'bot_command', 'offset': 0, 'length': 6}], 'caption_entities': [], 'photo': [], 'new_chat_members': [], 'new_chat_photo': [], 'delete_chat_photo': False, 'group_chat_created': False, 'supergroup_chat_created': False, 'channel_chat_created': False, 'from': {'id': 470319902, 'first_name': 'Luciano', 'is_bot': False, 'last_name': 'Falqueto', 'username': 'Falkets', 'language_code': 'en-US'}}, '_effective_user': {'id': 470319902, 'first_name': 'Luciano', 'is_bot': False, 'last_name': 'Falqueto', 'username': 'Falkets', 'language_code': 'en-US'}, '_effective_chat': {'id': 470319902, 'type': 'private', 'username': 'Falkets', 'first_name': 'Luciano', 'last_name': 'Falqueto'}}\n",
      "2018-08-26 00:50:31,256 - root - INFO - {'update_id': 494609540, 'message': {'message_id': 74, 'date': 1535255431, 'chat': {'id': 470319902, 'type': 'private', 'username': 'Falkets', 'first_name': 'Luciano', 'last_name': 'Falqueto'}, 'text': '/start', 'entities': [{'type': 'bot_command', 'offset': 0, 'length': 6}], 'caption_entities': [], 'photo': [], 'new_chat_members': [], 'new_chat_photo': [], 'delete_chat_photo': False, 'group_chat_created': False, 'supergroup_chat_created': False, 'channel_chat_created': False, 'from': {'id': 470319902, 'first_name': 'Luciano', 'is_bot': False, 'last_name': 'Falqueto', 'username': 'Falkets', 'language_code': 'en-US'}}, '_effective_user': {'id': 470319902, 'first_name': 'Luciano', 'is_bot': False, 'last_name': 'Falqueto', 'username': 'Falkets', 'language_code': 'en-US'}, '_effective_chat': {'id': 470319902, 'type': 'private', 'username': 'Falkets', 'first_name': 'Luciano', 'last_name': 'Falqueto'}}\n",
      "2018-08-26 00:50:49,031 - telegram.ext.updater - INFO - Received signal 2 (SIGINT), stopping...\n"
     ]
    }
   ],
   "source": [
    "if __name__ == '__main__':\n",
    "    main()"
   ]
  },
  {
   "cell_type": "markdown",
   "metadata": {},
   "source": [
    "## Elasticsearch"
   ]
  },
  {
   "cell_type": "code",
   "execution_count": 39,
   "metadata": {},
   "outputs": [],
   "source": [
    "from elasticsearch import Elasticsearch, RequestsHttpConnection\n",
    "from elasticsearch.serializer import JSONSerializer\n",
    "from elasticsearch.helpers import bulk\n",
    "\n",
    "ELASTICSEARCH_SERVER_ADDRESS = 'localhost'\n",
    "INDEX_USER_DATA = 'user_data'\n",
    "\n",
    "# BODY_GET_RAW_DATA = {  \"size\": 1000,\n",
    "#                      \"query\": {\n",
    "#                          \"bool\": {\n",
    "#                              \"must\": [{\"match\": {\"telegram_user_id\": \"false\"}}]\n",
    "#                                  }\n",
    "#                              }\n",
    "#                         }\n",
    "\n",
    "BODY_GET_RAW_DATA_BY_USER_ID = {\n",
    "                                 \"size\": 1000,\n",
    "                                 \"query\": {\n",
    "                                     \"match\":{\n",
    "                                         \"telegram_user_id\":{}\n",
    "                                         }\n",
    "                                    }\n",
    "                               }\n",
    "\n",
    "BODY_GET_ALL_DATA = {\n",
    "                        \"query\": {\n",
    "                            \"match_all\": {}\n",
    "                        }\n",
    "                    }\n",
    "\n",
    "es = Elasticsearch(ELASTICSEARCH_SERVER_ADDRESS)\n",
    "# insert data in  elastic search\n",
    "# es.index(index=DATE_INDEX, doc_type='doc', body=USER_DATA)"
   ]
  },
  {
   "cell_type": "code",
   "execution_count": 38,
   "metadata": {},
   "outputs": [],
   "source": [
    "def get_user_data_query(body, index):\n",
    "    es = Elasticsearch(ELASTICSEARCH_SERVER_ADDRESS)\n",
    "    search_val = es.search(index=index, body=body, scroll='1m')\n",
    "    final_list = []\n",
    "    \n",
    "    while search_val['hits']['hits']:\n",
    "        final_list += [x[\"_source\"] for x in search_val[\"hits\"][\"hits\"]]\n",
    "        search_val = es.scroll(scroll_id=search_val['_scroll_id'], scroll='30s')\n",
    "    df = pd.DataFrame(final_list)\n",
    "    \n",
    "    return df"
   ]
  },
  {
   "cell_type": "markdown",
   "metadata": {},
   "source": [
    "## Clustering"
   ]
  },
  {
   "cell_type": "code",
   "execution_count": 44,
   "metadata": {},
   "outputs": [],
   "source": [
    "def train_model(model_filename):\n",
    "    # body = BODY_GET_RAW_DATA_BY_USER_ID\n",
    "    # body[\"query\"][\"telegram_user_id\"] = userid\n",
    "    n_clusters = 5\n",
    "    df_data = get_user_data_query(BODY_GET_ALL_DATA, INDEX_USER_DATA)\n",
    "\n",
    "    # X_train, X_test, y_train, y_test = train_test_split(new_data, data[feature_dropped],\n",
    "    #                                                     train_size=0.25, random_state=42)\n",
    "\n",
    "    # Kmeans\n",
    "    clusterer = KMeans(n_clusters=n_clusters).fit(df_data)\n",
    "    \n",
    "    # GMM\n",
    "#     clusterer = GaussianMixture(n_components=n_clusters).fit(reduced_data)\n",
    "#     preds = clusterer.predict(reduced_data)\n",
    "\n",
    "    joblib.dump(clusterer, model_filename+'pkl') \n",
    "    return clusterer"
   ]
  }
 ],
 "metadata": {
  "kernelspec": {
   "display_name": "Python 3",
   "language": "python",
   "name": "python3"
  },
  "language_info": {
   "codemirror_mode": {
    "name": "ipython",
    "version": 3
   },
   "file_extension": ".py",
   "mimetype": "text/x-python",
   "name": "python",
   "nbconvert_exporter": "python",
   "pygments_lexer": "ipython3",
   "version": "3.6.6"
  }
 },
 "nbformat": 4,
 "nbformat_minor": 2
}
